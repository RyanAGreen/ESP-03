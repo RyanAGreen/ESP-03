{
 "cells": [
  {
   "cell_type": "markdown",
   "metadata": {},
   "source": [
    "# Defining custom functions\n",
    "We already know about python functions, which we can call to achieve some goal. Here we demo how to write our own custom functions.\n",
    "\n",
    "Consider the HelloWorld example"
   ]
  },
  {
   "cell_type": "code",
   "execution_count": null,
   "metadata": {},
   "outputs": [],
   "source": [
    "Name = input(\"Who are you?\")\n",
    "print(\"Hello \" + Name)"
   ]
  },
  {
   "cell_type": "markdown",
   "metadata": {},
   "source": [
    "We can turn this little piece of code into our own SayHello function, using the def keyword."
   ]
  },
  {
   "cell_type": "code",
   "execution_count": null,
   "metadata": {},
   "outputs": [],
   "source": [
    "def SayHello():\n",
    "    Name = input(\"Who are you?\")\n",
    "    print(\"Hello \" + Name)"
   ]
  },
  {
   "cell_type": "markdown",
   "metadata": {},
   "source": [
    "And we can call our function by its name"
   ]
  },
  {
   "cell_type": "code",
   "execution_count": null,
   "metadata": {},
   "outputs": [],
   "source": [
    "SayHello()"
   ]
  },
  {
   "cell_type": "markdown",
   "metadata": {},
   "source": [
    "We can also provide input to functions"
   ]
  },
  {
   "cell_type": "code",
   "execution_count": null,
   "metadata": {},
   "outputs": [],
   "source": [
    "def SayHelloTo(Name):\n",
    "    print(\"Hello \" + Name)"
   ]
  },
  {
   "cell_type": "code",
   "execution_count": null,
   "metadata": {},
   "outputs": [],
   "source": [
    "SayHelloTo(\"Ryan\")"
   ]
  },
  {
   "cell_type": "markdown",
   "metadata": {},
   "source": [
    "And functions can return values"
   ]
  },
  {
   "cell_type": "code",
   "execution_count": null,
   "metadata": {},
   "outputs": [],
   "source": [
    "def AreYouMathis():\n",
    "    Name = input(\"Who are you?\")\n",
    "    print(\"Hello \" + Name)\n",
    "    return Name == \"Mathis\""
   ]
  },
  {
   "cell_type": "code",
   "execution_count": null,
   "metadata": {},
   "outputs": [],
   "source": [
    "AreYouMathis()"
   ]
  },
  {
   "cell_type": "markdown",
   "metadata": {},
   "source": [
    "Of course functions can have input and output"
   ]
  },
  {
   "cell_type": "code",
   "execution_count": null,
   "metadata": {},
   "outputs": [],
   "source": [
    "def DoIknowYou(GuessName):\n",
    "        RealName = input(\"I think I know you, whats your name?\")\n",
    "        if GuessName == RealName:\n",
    "            print(\"Ha, I knew I knew you\")\n",
    "            return True\n",
    "        else:\n",
    "            print(\"My bet, got you confused with someone called \"+GuessName)\n",
    "            return False"
   ]
  },
  {
   "cell_type": "code",
   "execution_count": null,
   "metadata": {},
   "outputs": [],
   "source": [
    "IthinkYourNameIs = \"Ryan\"\n",
    "DoIknowYou(IthinkYourNameIs)"
   ]
  },
  {
   "cell_type": "markdown",
   "metadata": {},
   "source": [
    "Indeed, functions can have many inputs and many outputs (Tupel alert)"
   ]
  },
  {
   "cell_type": "code",
   "execution_count": null,
   "metadata": {},
   "outputs": [],
   "source": [
    "def Sort3Numbers(first,second,third):\n",
    "    \n",
    "    if first >= second >= third:\n",
    "        return first,second,third\n",
    "    \n",
    "    elif first >= third >= second:\n",
    "        return first,third,second\n",
    "    \n",
    "    elif second >= first >= third:\n",
    "        return second,first,third\n",
    "    \n",
    "    elif second >= third >= first:\n",
    "        return second,third,first\n",
    "    \n",
    "    elif third >= second >= first:\n",
    "        return third,second,first\n",
    "    \n",
    "    elif third >= first >= second:\n",
    "        return third,first,second"
   ]
  },
  {
   "cell_type": "code",
   "execution_count": null,
   "metadata": {},
   "outputs": [],
   "source": [
    "highest,mid,lowest = Sort3Numbers(3,20,3.0001)\n",
    "print(highest,mid,lowest)"
   ]
  },
  {
   "cell_type": "code",
   "execution_count": null,
   "metadata": {},
   "outputs": [],
   "source": []
  }
 ],
 "metadata": {
  "kernelspec": {
   "display_name": "Python 3",
   "language": "python",
   "name": "python3"
  },
  "language_info": {
   "codemirror_mode": {
    "name": "ipython",
    "version": 3
   },
   "file_extension": ".py",
   "mimetype": "text/x-python",
   "name": "python",
   "nbconvert_exporter": "python",
   "pygments_lexer": "ipython3",
   "version": "3.7.3"
  }
 },
 "nbformat": 4,
 "nbformat_minor": 4
}
