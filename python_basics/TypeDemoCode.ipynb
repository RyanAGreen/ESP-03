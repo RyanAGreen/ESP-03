{
 "cells": [
  {
   "cell_type": "markdown",
   "metadata": {},
   "source": [
    "# Type tutorial (demo)\n",
    "## integer"
   ]
  },
  {
   "cell_type": "code",
   "execution_count": null,
   "metadata": {},
   "outputs": [],
   "source": [
    "SomeInt = int(99/100)\n",
    "print(SomeInt)\n",
    "print(type(SomeInt))"
   ]
  },
  {
   "cell_type": "markdown",
   "metadata": {},
   "source": [
    "## float"
   ]
  },
  {
   "cell_type": "code",
   "execution_count": null,
   "metadata": {},
   "outputs": [],
   "source": [
    "SomeFloat = float(2**3)\n",
    "print(SomeFloat)\n",
    "print(type(SomeFloat))"
   ]
  },
  {
   "cell_type": "markdown",
   "metadata": {},
   "source": [
    "## string"
   ]
  },
  {
   "cell_type": "code",
   "execution_count": null,
   "metadata": {},
   "outputs": [],
   "source": [
    "SomeText = \"This is some text for {}.\".format(123)\n",
    "print(SomeText[3]) # counting starts at zero\n",
    "print(SomeText)\n",
    "\n",
    "# special note on filenames\n",
    "FileNames = \"DemoData/Experiment_{}.zzz\"\n",
    "\n"
   ]
  },
  {
   "cell_type": "markdown",
   "metadata": {},
   "source": [
    "## boolean"
   ]
  },
  {
   "cell_type": "code",
   "execution_count": null,
   "metadata": {},
   "outputs": [],
   "source": [
    "SomeNum = 123\n",
    "ShoutldBeTrue = SomeNum >= 123\n",
    "print(ShoutldBeTrue)\n",
    "print(type(ShoutldBeTrue))\n",
    "\n",
    "# and some Python ideom\n",
    "print(False or True)"
   ]
  },
  {
   "cell_type": "markdown",
   "metadata": {},
   "source": [
    "## None and NaN"
   ]
  },
  {
   "cell_type": "code",
   "execution_count": null,
   "metadata": {},
   "outputs": [],
   "source": [
    "VarName = None\n",
    "print(VarName)\n",
    "print(type(VarName))\n",
    "\n",
    "VarName = 123\n",
    "print(VarName)\n",
    "print(type(VarName))\n",
    "\n",
    "import numpy as np\n",
    "ThisIsNotANumber = np.nan\n",
    "print(ThisIsNotANumber *2)\n",
    "print(type(ThisIsNotANumber))\n",
    "#Measurments = [13.5,17.7,np.nan,99.9]\n",
    "\n",
    "a = np.array([123])\n",
    "b = np.array([0])\n",
    "print(a/b) # division by zero is allowed for numpy floats, but we get a warning\n",
    "print(\"we got here\")\n"
   ]
  },
  {
   "cell_type": "markdown",
   "metadata": {},
   "source": [
    "## tuple"
   ]
  },
  {
   "cell_type": "code",
   "execution_count": null,
   "metadata": {},
   "outputs": [],
   "source": [
    "a = 1\n",
    "b = \"something\"\n",
    "c = True\n",
    "\n",
    "SomeTuple = (a,b,c,a)\n",
    "print(SomeTuple)\n",
    "# immutable == cannot modify\n",
    "# ordered == call by index, same thing in different spots\n",
    "\n",
    "v1 , v2 , v3 , v4 = SomeTuple"
   ]
  },
  {
   "cell_type": "code",
   "execution_count": null,
   "metadata": {},
   "outputs": [],
   "source": [
    "whos"
   ]
  },
  {
   "cell_type": "markdown",
   "metadata": {},
   "source": [
    "## list"
   ]
  },
  {
   "cell_type": "code",
   "execution_count": null,
   "metadata": {},
   "outputs": [],
   "source": [
    "a=1\n",
    "b=\"something\"\n",
    "c = True\n",
    "SomeList = [a,b,c,a]\n",
    "SomeList.append(\"a again?\")\n",
    "\n",
    "print(SomeList[2])\n",
    "NewList = SomeList + [\"a new list with just one element\"]\n",
    "print(NewList)\n"
   ]
  },
  {
   "cell_type": "code",
   "execution_count": null,
   "metadata": {},
   "outputs": [],
   "source": [
    "whos"
   ]
  },
  {
   "cell_type": "markdown",
   "metadata": {},
   "source": [
    "## set"
   ]
  },
  {
   "cell_type": "code",
   "execution_count": null,
   "metadata": {},
   "outputs": [],
   "source": [
    "SomeSet = {\"apple\",\"banana\",\"melon\",\"apple\"}\n",
    "print(SomeSet)\n",
    "SomeSet.add(\"coconut\")\n",
    "SomeSet.add(\"apples\")\n",
    "SomeSet.remove(\"melon\")\n",
    "print(SomeSet)\n"
   ]
  },
  {
   "cell_type": "markdown",
   "metadata": {},
   "source": [
    "## dictionary"
   ]
  },
  {
   "cell_type": "code",
   "execution_count": null,
   "metadata": {},
   "outputs": [],
   "source": [
    "SomeDict = {\"bridge\":[1,2,3]}\n",
    "print(SomeDict)\n",
    "print(type(SomeDict))\n",
    "\n",
    "print(SomeDict[\"bridge\"])\n",
    "print(type(SomeDict[\"bridge\"]))\n",
    "\n",
    "list(SomeDict)\n"
   ]
  },
  {
   "cell_type": "markdown",
   "metadata": {},
   "source": [
    "## numpy array"
   ]
  },
  {
   "cell_type": "code",
   "execution_count": null,
   "metadata": {},
   "outputs": [],
   "source": [
    "import numpy as np\n",
    "vx = 1.2\n",
    "vy = 3.3\n",
    "vz = 9.7\n",
    "v = np.array([vx,vy,vz])\n",
    "print(v)\n",
    "\n",
    "A = np.array([[1,2,3],[4,5,6]])\n",
    "print(A)\n",
    "\n",
    "result = A*v\n",
    "print(v.size)\n",
    "\n",
    "# matrix 3x4 all 77\n",
    "A77 = np.zeros([3,4])*77\n",
    "print(A77)\n",
    "\n",
    "# matrix 3x4 all random\n",
    "Auni = np.random.uniform(size=[3,4])\n",
    "print(Auni)"
   ]
  },
  {
   "cell_type": "code",
   "execution_count": null,
   "metadata": {},
   "outputs": [],
   "source": []
  }
 ],
 "metadata": {
  "kernelspec": {
   "display_name": "Python 3",
   "language": "python",
   "name": "python3"
  },
  "language_info": {
   "codemirror_mode": {
    "name": "ipython",
    "version": 3
   },
   "file_extension": ".py",
   "mimetype": "text/x-python",
   "name": "python",
   "nbconvert_exporter": "python",
   "pygments_lexer": "ipython3",
   "version": "3.7.6"
  }
 },
 "nbformat": 4,
 "nbformat_minor": 2
}
