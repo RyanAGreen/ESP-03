{
 "cells": [
  {
   "cell_type": "markdown",
   "metadata": {},
   "source": [
    "# Input/output in-class practice\n",
    "This week we practice how data can be loaded into the memory of your computer (input) as well as getting the data back out of memory (output).\n",
    "\n",
    "This set of practice problems is based on a number of files that you can downolad from the Canvas Files tab DemoData folder. \n",
    "\n",
    "# TXT --- MobyDick.txt\n",
    "Simple text files are a relict of the early days of computing, functioning essentially like a typewriter: You need to open the file, keep it open while you read/edit the text and then close/save it. TXT files are mainly intended for human readable text (str).\n",
    "\n",
    "Open MobyDick.txt\n",
    "\n",
    "Read MobyDick\n",
    "\n",
    "Count how often Moby appears by name\n",
    "\n",
    "Find the passage Moby appears first\n",
    "\n",
    "Close MobyDick\n",
    "\n",
    "(Hint: Read/Close are methods of the file object, whereas Count/Find are string methods)"
   ]
  },
  {
   "cell_type": "code",
   "execution_count": null,
   "metadata": {},
   "outputs": [],
   "source": []
  },
  {
   "cell_type": "markdown",
   "metadata": {},
   "source": [
    "## CSV -- Piazza stats example\n",
    "This is a mini-demo of how we can use pandas to work with Piazza data."
   ]
  },
  {
   "cell_type": "code",
   "execution_count": null,
   "metadata": {},
   "outputs": [],
   "source": [
    "import pandas as pd\n",
    "Posts = pd.read_csv(\"practice/piazza-eart_119-stats_summary-2020-10-28.csv\")\n",
    "Views = pd.read_csv(\"practice/piazza-eart_119-post_views-2020-10-28.csv\")"
   ]
  },
  {
   "cell_type": "code",
   "execution_count": null,
   "metadata": {},
   "outputs": [],
   "source": [
    "Posts.head(5)"
   ]
  },
  {
   "cell_type": "code",
   "execution_count": null,
   "metadata": {},
   "outputs": [],
   "source": [
    "Posts[\"day points\"] = Posts[\"days online\"] / 50 *5 # every day you check Piazza = +0.1% \n",
    "Posts[\"day points\"] = Posts[\"day points\"].clip(upper=5) # up to a maximum of 5 %\n",
    "Posts[\"QA points\"] = (Posts[\"posts\"]+Posts[\"answers\"]) # every Q or A yields a point\n",
    "Posts[\"QA points\"] = Posts[\"QA points\"].clip(upper=5) # up to a maximum of 5 %\n",
    "Posts[\"points\"] = Posts[\"day points\"] + Posts[\"QA points\"] # we sum both components"
   ]
  },
  {
   "cell_type": "code",
   "execution_count": null,
   "metadata": {},
   "outputs": [],
   "source": [
    "Posts.head(5)\n",
    "Posts[['name','points']].to_csv(\"PiazzaPoints.csv\")"
   ]
  },
  {
   "cell_type": "markdown",
   "metadata": {},
   "source": [
    "## CSV -- population.csv\n",
    "Comma Separated Value files are simple text files, but they are intended for tabulated data. Lines of text correspond to rows and in each line columns are separated by commas.\n",
    "\n",
    "Import the pandas library\n",
    "\n",
    "use the read_csv( ) method to import all data from population.csv\n",
    "\n",
    "Find all countries with decreasing population from 2000 to 2010. How many countries?\n",
    "\n",
    "Write a table with country / pop00 / pop10 to csv (using to_csv( ) ), and to xlsx (using to_excel( ) )."
   ]
  },
  {
   "cell_type": "code",
   "execution_count": null,
   "metadata": {},
   "outputs": [],
   "source": []
  },
  {
   "cell_type": "markdown",
   "metadata": {},
   "source": [
    "## CSV --- titanic.csv\n",
    "\n",
    "Import the pandas library\n",
    "\n",
    "use the read_csv( ) method to import all data from titanic.csv\n",
    "\n",
    "How many kids (<18yrs) from Southampton are on the list?"
   ]
  },
  {
   "cell_type": "code",
   "execution_count": null,
   "metadata": {},
   "outputs": [],
   "source": []
  },
  {
   "cell_type": "markdown",
   "metadata": {},
   "source": [
    "## Pickle --- PracticePickle.pkl\n",
    "Sometimes you might be working with some objects in memory but you run out of time and you would like to save your objects for later. With the pickle library you can write/read memory 1s and 0s to/from hard drive 1s and 0s\n",
    "\n",
    "Import pickle\n",
    "\n",
    "Read pickle content from PracticePickle.pkl\n",
    "\n",
    "Explore the object that comes out of the pickle\n",
    "\n",
    "Follow the pickled instruction"
   ]
  },
  {
   "cell_type": "code",
   "execution_count": null,
   "metadata": {},
   "outputs": [],
   "source": []
  },
  {
   "cell_type": "markdown",
   "metadata": {},
   "source": [
    "## Images  --- BYO image\n",
    "Typical image files have some pixel dimension (2560x1080) as well as \"layers\" one-each per base color: Red,Green,Blue (RGB). Such images can be represented as a 3-dimensional array of numbers (2560x1080x3).\n",
    "\n",
    "Download any jpg/png/tif image from the internet\n",
    "\n",
    "Import matplotlib.pyplot\n",
    "\n",
    "Use imread() method to read your image into memory\n",
    "\n",
    "Explore image object (dimensions, colors)\n",
    "\n",
    "Crop your image's lower right corner.\n",
    "\n",
    "Use imshow() and savefig() to output the blue channel into a image file.\n",
    "\n"
   ]
  },
  {
   "cell_type": "code",
   "execution_count": null,
   "metadata": {},
   "outputs": [],
   "source": []
  }
 ],
 "metadata": {
  "kernelspec": {
   "display_name": "Python 3",
   "language": "python",
   "name": "python3"
  },
  "language_info": {
   "codemirror_mode": {
    "name": "ipython",
    "version": 3
   },
   "file_extension": ".py",
   "mimetype": "text/x-python",
   "name": "python",
   "nbconvert_exporter": "python",
   "pygments_lexer": "ipython3",
   "version": "3.7.6"
  }
 },
 "nbformat": 4,
 "nbformat_minor": 4
}
