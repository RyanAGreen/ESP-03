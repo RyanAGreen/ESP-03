{
 "cells": [
  {
   "cell_type": "markdown",
   "metadata": {},
   "source": [
    "# Module 2, week 2 in-class exercises"
   ]
  },
  {
   "cell_type": "markdown",
   "metadata": {},
   "source": [
    "## Problem 1\n",
    "We will split into breakout groups and each group is asked to code up a different unit conversion function. Please collaborate to make sure that your teams's funtion performes. \n",
    "\n",
    "Room 1: FTtoM\n",
    "\n",
    "Room 2: MtoFT\n",
    "\n",
    "Room 3: MtoYD\n",
    "\n",
    "Room 4: YDtoM\n",
    "\n",
    "Room 5: MItoKM\n",
    "\n",
    "Room 6: KMtoMI\n",
    "\n",
    "Please use the function name as shown above. e.g. the function FTtoM( ) should accept input in the un its of feet and return output in the units of meters. Each time your function runs there could well be a fun message printed to screen.\n",
    "Upload your solution as a .py file here: https://www.dropbox.com/request/PqBUr0xOH8I6nVhHETWQ"
   ]
  },
  {
   "cell_type": "code",
   "execution_count": null,
   "metadata": {},
   "outputs": [],
   "source": []
  },
  {
   "cell_type": "markdown",
   "metadata": {},
   "source": [
    "## Problem 2\n",
    "Take a piece of paper and a pen and write a function definition that:\n",
    "\n",
    "(1) takes string as input containing the name\n",
    "(2) prints a greeting to screen using the name\n",
    "(3) returns the number of characters in the name\n",
    "\n",
    "Take a photo of your handwritten code and upload here: https://www.dropbox.com/request/2YkKDKHKgAu64hLABJH9\n",
    "\n",
    "Pay close attention to get the syntax exactly right. This exercise forces you to engage a different part of your brain in your coding."
   ]
  },
  {
   "cell_type": "markdown",
   "metadata": {},
   "source": [
    "## Problem 3\n",
    "Write a function IsPrime( ) that takes one integer input and returns True if the number is a prime number, and False otherwise.\n",
    "\n",
    "Use this code to generate 10000 random integers and use your function to determine all prime numbers in RandomIntegers:"
   ]
  },
  {
   "cell_type": "code",
   "execution_count": null,
   "metadata": {},
   "outputs": [],
   "source": [
    "import numpy as np\n",
    "np.random.seed(12345)\n",
    "RandomIntegers = np.random.randint(0,1e6,10000)"
   ]
  },
  {
   "cell_type": "markdown",
   "metadata": {},
   "source": [
    "## Problem 4 \n",
    "Download the HandCalculatorLib.py file from Canvas to your course folder and explore the class definition of HandCalculator it contains.\n",
    "\n",
    "You are asked to:\n",
    "\n",
    "  (1) Import the library\n",
    "\n",
    "  (2) Create an instance of HandCalculator\n",
    "\n",
    "  (3) Use every method of HandCalculator\n",
    "\n",
    "\n",
    "The point of this excercise is to make sure you know how to:\n",
    "\n",
    "  (a) read and comprehend simple class definitions\n",
    "\n",
    "  (b) import a external library\n",
    "\n",
    "  (c) make and interact with an object "
   ]
  },
  {
   "cell_type": "markdown",
   "metadata": {},
   "source": [
    "## Advanced extra problem\n",
    "Try to add more functionality to the HandCalculator class:\n",
    "\n",
    "--> add a square( ) and a squareroot( ) method\n",
    "\n",
    "--> add useful natural constants, e.g., pi, e, DaysPerYear, EarthRadiusKM\n",
    "\n",
    "--> add a SetMemory( ) to save the current value for later use\n",
    "\n",
    "--> modify the existing methods so they use the memory value if no input is provided"
   ]
  },
  {
   "cell_type": "code",
   "execution_count": null,
   "metadata": {},
   "outputs": [],
   "source": []
  }
 ],
 "metadata": {
  "kernelspec": {
   "display_name": "Python 3",
   "language": "python",
   "name": "python3"
  },
  "language_info": {
   "codemirror_mode": {
    "name": "ipython",
    "version": 3
   },
   "file_extension": ".py",
   "mimetype": "text/x-python",
   "name": "python",
   "nbconvert_exporter": "python",
   "pygments_lexer": "ipython3",
   "version": "3.7.6"
  }
 },
 "nbformat": 4,
 "nbformat_minor": 4
}
