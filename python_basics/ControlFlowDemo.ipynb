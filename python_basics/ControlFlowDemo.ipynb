{
 "cells": [
  {
   "cell_type": "markdown",
   "metadata": {},
   "source": [
    "# Control Flow demo\n",
    "## The basic flow"
   ]
  },
  {
   "cell_type": "code",
   "execution_count": 1,
   "metadata": {},
   "outputs": [
    {
     "name": "stdout",
     "output_type": "stream",
     "text": [
      "This is my message\n"
     ]
    }
   ],
   "source": [
    "msg = \"This is my message\" # first\n",
    "print(msg) # second"
   ]
  },
  {
   "cell_type": "code",
   "execution_count": 2,
   "metadata": {},
   "outputs": [
    {
     "name": "stdout",
     "output_type": "stream",
     "text": [
      "This is my message\n",
      "This is another message\n"
     ]
    }
   ],
   "source": [
    "msg = \"This is my message\"; print(msg) # first, second\n",
    "msg2 = \"This is another message\"; print(msg2) # thrid, fourth"
   ]
  },
  {
   "cell_type": "markdown",
   "metadata": {},
   "source": [
    "## counting using while\n",
    "https://docs.python.org/3/tutorial/introduction.html"
   ]
  },
  {
   "cell_type": "code",
   "execution_count": null,
   "metadata": {},
   "outputs": [],
   "source": [
    "val = 0 # first\n",
    "counter = 0 # second\n",
    "\n",
    "while val<10: # as long as True\n",
    "    print(val,counter) # thrid,6,9\n",
    "    val = val + 1 # fourth,7,10\n",
    "    counter = counter + 1 # fifth,8,11 ... 32\n",
    "\n",
    "print(\"final: \", val, counter) # 33"
   ]
  },
  {
   "cell_type": "markdown",
   "metadata": {},
   "source": [
    "## repeating using for\n",
    "https://wiki.python.org/moin/ForLoop"
   ]
  },
  {
   "cell_type": "code",
   "execution_count": 4,
   "metadata": {},
   "outputs": [
    {
     "name": "stdout",
     "output_type": "stream",
     "text": [
      "UCSC  is a UC.\n",
      "UCB  is a UC.\n",
      "UCSD  is a UC.\n"
     ]
    }
   ],
   "source": [
    "SomeList = [\"UCSC\",\"UCB\",\"UCSD\"] #1\n",
    "for eachUC in SomeList: # for each one element of the list each becomes that element\n",
    "    print(eachUC, \" is a UC.\") # 2,3,4"
   ]
  },
  {
   "cell_type": "markdown",
   "metadata": {},
   "source": [
    "## branching using if\n",
    "http://anh.cs.luc.edu/handsonPythonTutorial/ifstatements.html"
   ]
  },
  {
   "cell_type": "code",
   "execution_count": 8,
   "metadata": {},
   "outputs": [
    {
     "name": "stdout",
     "output_type": "stream",
     "text": [
      "How nice are you? 23\n",
      "People from my hometown are known to have niceness below 50\n",
      "Done\n"
     ]
    }
   ],
   "source": [
    "YourNiceness = input(\"How nice are you? \") #1\n",
    "if int(YourNiceness) > 50: # checks if True, run following code block\n",
    "    print(\"You are too nice!\") \n",
    "else: # if False, run following code block\n",
    "    print(\"People from my hometown are known to have niceness below 50\") #2\n",
    "\n",
    "print(\"Done\") #3"
   ]
  },
  {
   "cell_type": "markdown",
   "metadata": {},
   "source": [
    "## reusing instructions with functions\n",
    "https://www.pythoncheatsheet.org"
   ]
  },
  {
   "cell_type": "code",
   "execution_count": 9,
   "metadata": {},
   "outputs": [
    {
     "name": "stdout",
     "output_type": "stream",
     "text": [
      "Beep None\n",
      "Beep 1\n",
      "Beep 2\n",
      "Beep 3\n",
      "Beep 4\n",
      "Beep the last one is 5\n"
     ]
    }
   ],
   "source": [
    "def SayBeep(num=None): # function definition included in following code block\n",
    "    print(\"Beep\",num) # 2, 4, 7, 9, 12, 14\n",
    "    # there could be more happening\n",
    "    \n",
    "SayBeep() # 1\n",
    "SayBeep(1) # 3\n",
    "a=1 #5\n",
    "SayBeep(2) #6\n",
    "SayBeep(3) #8\n",
    "b=a #10\n",
    "SayBeep(4) # 11\n",
    "SayBeep(\"the last one is 5\") # 13"
   ]
  },
  {
   "cell_type": "code",
   "execution_count": null,
   "metadata": {},
   "outputs": [],
   "source": []
  }
 ],
 "metadata": {
  "kernelspec": {
   "display_name": "Python 3",
   "language": "python",
   "name": "python3"
  },
  "language_info": {
   "codemirror_mode": {
    "name": "ipython",
    "version": 3
   },
   "file_extension": ".py",
   "mimetype": "text/x-python",
   "name": "python",
   "nbconvert_exporter": "python",
   "pygments_lexer": "ipython3",
   "version": "3.7.6"
  }
 },
 "nbformat": 4,
 "nbformat_minor": 4
}
