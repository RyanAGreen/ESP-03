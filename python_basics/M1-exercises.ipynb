{
 "cells": [
  {
   "cell_type": "markdown",
   "metadata": {},
   "source": [
    "# Python orientation: exercises\n",
    "This Jupyter notebook contains a series of exercises that you should be able to work out on your own by the end of the week. In class on Wednesday 10/7 we will work through these exercises together, in break-out groups.\n",
    "## Your own Hello World\n",
    "This problem has two phases: (first) develop your own fun Hello World greeting code in the code cell below and make sure that the greeting contains allyour names, and (second) save your code as a text file with .py ending (upload your .py code using this link: https://www.dropbox.com/request/9CuNTUWZj6rX1yQnttR3) "
   ]
  },
  {
   "cell_type": "code",
   "execution_count": null,
   "metadata": {},
   "outputs": [],
   "source": []
  },
  {
   "cell_type": "markdown",
   "metadata": {},
   "source": [
    "## Making errors\n",
    "Please come up with good illustrative examples for the three types of programming errors. Can you explain to others what sets these errors apart?"
   ]
  },
  {
   "cell_type": "code",
   "execution_count": null,
   "metadata": {},
   "outputs": [],
   "source": [
    "# syntax error"
   ]
  },
  {
   "cell_type": "code",
   "execution_count": null,
   "metadata": {},
   "outputs": [],
   "source": [
    "# run-time error"
   ]
  },
  {
   "cell_type": "code",
   "execution_count": null,
   "metadata": {},
   "outputs": [],
   "source": [
    "# semantic/logic error"
   ]
  },
  {
   "cell_type": "markdown",
   "metadata": {},
   "source": [
    "## Try input( )\n",
    "Your Hello World example could be more fun if it was interacting with the user, asking for their name for example. Just like print( ) there is a built-in Python function called input( ) that can ask the user for keyboard input. You are asked to navigate the internet, or the material linked in module 1, to find information on how exactly to use input( ). The point of this exercise is to make sure you know how to access resources that help you with your programming.\n",
    "\n",
    "Make sure your new Hello World with input( ) has your names and upload as .py using this link: https://www.dropbox.com/request/nAiQZtw5L6YRzmsiLH6d"
   ]
  },
  {
   "cell_type": "markdown",
   "metadata": {},
   "source": [
    "## importing and using math\n",
    "Santa Cruz is at 37˚N. Assuming Earths radius of 6371 km, how many miles are we (virtually) from the equatorial plane {R*sin(latitude)}? "
   ]
  },
  {
   "cell_type": "code",
   "execution_count": null,
   "metadata": {},
   "outputs": [],
   "source": []
  }
 ],
 "metadata": {
  "kernelspec": {
   "display_name": "Python 3",
   "language": "python",
   "name": "python3"
  },
  "language_info": {
   "codemirror_mode": {
    "name": "ipython",
    "version": 3
   },
   "file_extension": ".py",
   "mimetype": "text/x-python",
   "name": "python",
   "nbconvert_exporter": "python",
   "pygments_lexer": "ipython3",
   "version": "3.7.3"
  }
 },
 "nbformat": 4,
 "nbformat_minor": 4
}
