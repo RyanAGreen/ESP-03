{
 "cells": [
  {
   "cell_type": "markdown",
   "metadata": {},
   "source": [
    "# Module 2, week 1 in-class exercises\n",
    "The goal of this notebook is to give you the opportunity to practice working with different types of data, to operate on the data while controling the flow of your code. In class you can discuss these problems with your colleagues in breakout rooms, but you are also encouraged to work though these problems on your own.\n",
    "\n",
    "These problems are not easy at all if you are new to programming and part of the learning goal here is for you to access resources to help your programming, e.g., cheat sheets, web search, etc.\n",
    "\n",
    "For discussion in class and any follow-up problem solving please upload your code here: https://www.dropbox.com/request/uxr7TBIez5uRyjFi6gIE\n",
    "\n",
    "## 1: Working with types\n",
    "### 1a: Indexing a list\n",
    "Assume there is a list of countries with high per capita plastic use, e.g.: PlasticCountries = [\"Germany\",\"UK\",\"USA\"]\n",
    "\n",
    "How would you access the third country in that list?\n",
    "How would you add a country?"
   ]
  },
  {
   "cell_type": "code",
   "execution_count": null,
   "metadata": {},
   "outputs": [],
   "source": []
  },
  {
   "cell_type": "markdown",
   "metadata": {},
   "source": [
    "### 1b: formating string text, converting string to numbers\n",
    "Write a little program that asks the user to input a number X and then returns a screen message saying \"The fifth power of X is Xtothe5\" with the values filled in.\n",
    "(note: you can multiply, use the power operator ** or import the math module to calculate the power)"
   ]
  },
  {
   "cell_type": "code",
   "execution_count": null,
   "metadata": {},
   "outputs": [],
   "source": []
  },
  {
   "cell_type": "markdown",
   "metadata": {},
   "source": [
    "### 1c: generate a random floating point numbers using numpy\n",
    "You will need to import numpy and then use its random module (https://docs.scipy.org/doc/numpy-1.15.0/reference/routines.random.html). We don't ask for any specific probabilty distribution so that you can pick your personal favorite (e.g., uniform, normal, gamma, etc).\n",
    "\n",
    "How would you generate a single random number from your fav distribution, and how would you generate a sample of 100 such numbers?"
   ]
  },
  {
   "cell_type": "code",
   "execution_count": null,
   "metadata": {},
   "outputs": [],
   "source": []
  },
  {
   "cell_type": "markdown",
   "metadata": {},
   "source": [
    "## 2: controling the flow\n",
    "### 2a: if/elif/else code branching\n",
    "A ride is 50 cents for adults, a dime for kids and a quarter for everyone over 65. Given RiderAge print a screen message with how much they need to pay. Kids are younger than 12?"
   ]
  },
  {
   "cell_type": "code",
   "execution_count": 1,
   "metadata": {},
   "outputs": [],
   "source": [
    "RiderAge = 37 # How much do I need to pay?"
   ]
  },
  {
   "cell_type": "markdown",
   "metadata": {},
   "source": [
    "### 2b: counting with (conditional) while loop\n",
    "How often do you need to generate a random number (uniform between 0 and 1) to draw 1000 numbers that exceed 0.95? Hint, use numpy for the random numbers and a while loop that repeats until a counter has reached 1000. Conditional refers to there being no definit number of loops but only a condition of 1000-above-0.95 for exiting the loop."
   ]
  },
  {
   "cell_type": "code",
   "execution_count": null,
   "metadata": {},
   "outputs": [],
   "source": []
  },
  {
   "cell_type": "markdown",
   "metadata": {},
   "source": [
    "### 2c: counting with (definit) for loop\n",
    "If you generate a random number between 0 and 1 (using numpy) and you repeat exactly 10,000 times, how ofen do you get a number higher than 0.9? Hint: use a for loop that repeats and a counter that counts. Definit refers to there being a definit number of 10,000 loops."
   ]
  },
  {
   "cell_type": "code",
   "execution_count": null,
   "metadata": {},
   "outputs": [],
   "source": []
  },
  {
   "cell_type": "markdown",
   "metadata": {},
   "source": [
    "## 3: Odd or Even\n",
    "Write a little program that asks the user for a number and then replies either \"Odd\" or \"Even\" or \"Not-a-int\". Hint, this exercise can be solved using type conversion, comparison and branching."
   ]
  },
  {
   "cell_type": "code",
   "execution_count": null,
   "metadata": {},
   "outputs": [],
   "source": []
  }
 ],
 "metadata": {
  "kernelspec": {
   "display_name": "Python 3",
   "language": "python",
   "name": "python3"
  },
  "language_info": {
   "codemirror_mode": {
    "name": "ipython",
    "version": 3
   },
   "file_extension": ".py",
   "mimetype": "text/x-python",
   "name": "python",
   "nbconvert_exporter": "python",
   "pygments_lexer": "ipython3",
   "version": "3.7.6"
  }
 },
 "nbformat": 4,
 "nbformat_minor": 4
}
