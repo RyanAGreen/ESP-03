{
 "cells": [
  {
   "cell_type": "markdown",
   "metadata": {},
   "source": [
    "# Three examples of classes\n",
    "Generic, Practical, Real-world\n",
    "## A generic example"
   ]
  },
  {
   "cell_type": "code",
   "execution_count": null,
   "metadata": {},
   "outputs": [],
   "source": [
    "class GenericClassExample():\n",
    "    SomeConstant = 3.14159\n",
    "    \n",
    "    def SomeMethod(self):\n",
    "        print(\"Thanks for using this method\")\n",
    "        \n",
    "    def SomeMethodWithData(self):\n",
    "        print(\"Thanks for using our pi: \" + str(self.SomeConstant))\n",
    "        return self.SomeConstant"
   ]
  },
  {
   "cell_type": "code",
   "execution_count": null,
   "metadata": {},
   "outputs": [],
   "source": [
    "InstanceOfGenericClassExample = GenericClassExample()"
   ]
  },
  {
   "cell_type": "code",
   "execution_count": null,
   "metadata": {},
   "outputs": [],
   "source": [
    "InstanceOfGenericClassExample.SomeConstant"
   ]
  },
  {
   "cell_type": "code",
   "execution_count": null,
   "metadata": {},
   "outputs": [],
   "source": [
    "InstanceOfGenericClassExample.SomeMethod()"
   ]
  },
  {
   "cell_type": "code",
   "execution_count": null,
   "metadata": {},
   "outputs": [],
   "source": [
    "InstanceOfGenericClassExample.SomeMethodWithData()"
   ]
  },
  {
   "cell_type": "markdown",
   "metadata": {},
   "source": [
    "## A practical example"
   ]
  },
  {
   "cell_type": "code",
   "execution_count": null,
   "metadata": {},
   "outputs": [],
   "source": [
    "class HandCalculator():\n",
    "    \n",
    "    def __init__(self):\n",
    "        self.CurrentValue = 0\n",
    "        print(self.CurrentValue)\n",
    "        \n",
    "    def add(self,ToAdd):\n",
    "        self.CurrentValue += ToAdd\n",
    "        print(self.CurrentValue)\n",
    "        return self.CurrentValue\n",
    "    \n",
    "    def subtract(self,ToRemove):\n",
    "        self.CurrentValue -= ToRemove\n",
    "        print(self.CurrentValue)\n",
    "        return self.CurrentValue\n",
    "        \n",
    "    def multiply(self,ToMult):\n",
    "        self.CurrentValue *= ToMult\n",
    "        print(self.CurrentValue)\n",
    "        return self.CurrentValue\n",
    "        \n",
    "    def divide(self,ToDiv):\n",
    "        self.CurrentValue /= ToDiv\n",
    "        print(self.CurrentValue)\n",
    "        return self.CurrentValue\n",
    "        \n",
    "    def set_to(self, Value):\n",
    "        self.CurrentValue = Value\n",
    "        print(self.CurrentValue)\n",
    "        return self.CurrentValue\n",
    "        \n",
    "    def reset(self):\n",
    "        print(\"Resetting to zero.\")\n",
    "        self.CurrentValue = 0\n",
    "        print(self.CurrentValue)\n",
    "        return self.CurrentValue"
   ]
  },
  {
   "cell_type": "code",
   "execution_count": null,
   "metadata": {},
   "outputs": [],
   "source": [
    "MyHandCalculator = HandCalculator() # call __init__ \n",
    "YourHandCalculator = HandCalculator() # call __init__ \n",
    "\n",
    "MyHandCalculator.add(1)\n",
    "MyHandCalculator.subtract(3)\n",
    "MyHandCalculator.multiply(-10)\n",
    "MyHandCalculator.divide(2)\n",
    "\n",
    "YourHandCalculator.add(1)\n",
    "YourHandCalculator.subtract(2)\n",
    "YourHandCalculator.multiply(3)\n",
    "YourHandCalculator.divide(4)\n",
    "\n",
    "MyHandCalculator.reset()\n",
    "angle_degree = 180\n",
    "MyHandCalculator.set_to(2 * 3.14159 / 360) # conversion factor\n",
    "angle_rad = MyHandCalculator.multiply(angle_degree) # converting to rad"
   ]
  },
  {
   "cell_type": "markdown",
   "metadata": {},
   "source": [
    "## A real world example"
   ]
  },
  {
   "cell_type": "code",
   "execution_count": null,
   "metadata": {},
   "outputs": [],
   "source": [
    "ToBeTabulated = {\"A\":[1,2,3,4],\"B\":[4,5,6,7]}\n",
    "\n",
    "import pandas as pd\n",
    "TabulatedData = pd.DataFrame(ToBeTabulated)\n",
    "TabulatedData"
   ]
  },
  {
   "cell_type": "code",
   "execution_count": null,
   "metadata": {},
   "outputs": [],
   "source": [
    "TabulatedData[\"A+B\"] = TabulatedData[\"A\"] + TabulatedData[\"B\"]\n",
    "TabulatedData"
   ]
  },
  {
   "cell_type": "code",
   "execution_count": null,
   "metadata": {},
   "outputs": [],
   "source": []
  }
 ],
 "metadata": {
  "kernelspec": {
   "display_name": "Python 3",
   "language": "python",
   "name": "python3"
  },
  "language_info": {
   "codemirror_mode": {
    "name": "ipython",
    "version": 3
   },
   "file_extension": ".py",
   "mimetype": "text/x-python",
   "name": "python",
   "nbconvert_exporter": "python",
   "pygments_lexer": "ipython3",
   "version": "3.7.3"
  }
 },
 "nbformat": 4,
 "nbformat_minor": 4
}
