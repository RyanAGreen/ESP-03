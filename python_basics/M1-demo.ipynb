{
 "cells": [
  {
   "cell_type": "markdown",
   "metadata": {},
   "source": [
    "# Welcome to Python "
   ]
  },
  {
   "cell_type": "markdown",
   "metadata": {},
   "source": [
    "## 1 Hello World"
   ]
  },
  {
   "cell_type": "code",
   "execution_count": 1,
   "metadata": {},
   "outputs": [],
   "source": [
    "# this is what a comment looks like\n",
    "# a comment does nothing, but it is often important to explain the code"
   ]
  },
  {
   "cell_type": "code",
   "execution_count": 2,
   "metadata": {},
   "outputs": [
    {
     "name": "stdout",
     "output_type": "stream",
     "text": [
      "What's your name?x\n",
      "Hello x, welcome to EART119!\n"
     ]
    }
   ],
   "source": [
    "UserName = input(\"What's your name?\") # asks for name\n",
    "print(\"Hello {}, welcome to EART119!\".format(UserName))  # responds using name"
   ]
  },
  {
   "cell_type": "markdown",
   "metadata": {},
   "source": [
    "The code above is one example of a simple \"Hello World\" program"
   ]
  },
  {
   "cell_type": "markdown",
   "metadata": {},
   "source": [
    "## 2 Using python like a calculator\n",
    "### 2.1 Simple math operators"
   ]
  },
  {
   "cell_type": "code",
   "execution_count": 3,
   "metadata": {},
   "outputs": [
    {
     "data": {
      "text/plain": [
       "2"
      ]
     },
     "execution_count": 3,
     "metadata": {},
     "output_type": "execute_result"
    }
   ],
   "source": [
    "1+1"
   ]
  },
  {
   "cell_type": "code",
   "execution_count": 4,
   "metadata": {},
   "outputs": [
    {
     "data": {
      "text/plain": [
       "6"
      ]
     },
     "execution_count": 4,
     "metadata": {},
     "output_type": "execute_result"
    }
   ],
   "source": [
    "2*3"
   ]
  },
  {
   "cell_type": "code",
   "execution_count": 5,
   "metadata": {},
   "outputs": [
    {
     "data": {
      "text/plain": [
       "0.8"
      ]
     },
     "execution_count": 5,
     "metadata": {},
     "output_type": "execute_result"
    }
   ],
   "source": [
    "4/5"
   ]
  },
  {
   "cell_type": "code",
   "execution_count": 8,
   "metadata": {},
   "outputs": [
    {
     "data": {
      "text/plain": [
       "-1"
      ]
     },
     "execution_count": 8,
     "metadata": {},
     "output_type": "execute_result"
    }
   ],
   "source": [
    "6-7"
   ]
  },
  {
   "cell_type": "markdown",
   "metadata": {},
   "source": [
    "### 2.2 Extra math functions"
   ]
  },
  {
   "cell_type": "code",
   "execution_count": 7,
   "metadata": {},
   "outputs": [
    {
     "name": "stdout",
     "output_type": "stream",
     "text": [
      "classic division: 4.333333333333333\n",
      "floor division: 4\n",
      "remainder of division: 1\n",
      "power: 4 8 2.25 1.8371173070873836\n",
      "sine: 0.0 -0.0031853017931379904\n"
     ]
    }
   ],
   "source": [
    "print(\"classic division:\", 13/3)\n",
    "print(\"floor division:\", 13//3)\n",
    "print(\"remainder of division:\", 13%3)\n",
    "print(\"power:\",2**2, 2**3, 1.5**2, 1.5**1.5)\n",
    "\n",
    "# We can even import (a lot) more math functions\n",
    "import math # For info: https://docs.python.org/3/library/math.html\n",
    "print(\"sine:\", math.sin(0), math.sin(2*3.14))"
   ]
  },
  {
   "cell_type": "markdown",
   "metadata": {},
   "source": [
    "### 2.3 Saving results as variables"
   ]
  },
  {
   "cell_type": "code",
   "execution_count": 9,
   "metadata": {},
   "outputs": [
    {
     "name": "stdout",
     "output_type": "stream",
     "text": [
      "The variables are: 2 6 0.8 -1\n",
      "The result is : -15.0\n",
      "The formula gives: -15.0\n",
      "The variables are: 0 6 0.8 -1\n",
      "The result is : -15.0\n",
      "The formula gives: -0.0\n"
     ]
    }
   ],
   "source": [
    "a = 1+1 # the result is assigned to a variable name\n",
    "b = 2*3 # the result is assigned to a variable name\n",
    "c = 4/5 # the result is assigned to a variable name\n",
    "d = 6-7 # the result is assigned to a variable name\n",
    "ab_over_cd = (a*b)/(c*d) # the result is assigned to a variable name\n",
    "print(\"The variables are:\",a,b,c,d)\n",
    "print(\"The result is :\",ab_over_cd)\n",
    "print(\"The formula gives:\",(a*b)/(c*d))\n",
    "a = 0 # we change one variable\n",
    "print(\"The variables are:\",a,b,c,d)\n",
    "print(\"The result is :\",ab_over_cd)\n",
    "print(\"The formula gives:\",(a*b)/(c*d))"
   ]
  },
  {
   "cell_type": "markdown",
   "metadata": {},
   "source": [
    "### 2.4 Testing if variable is still there"
   ]
  },
  {
   "cell_type": "code",
   "execution_count": null,
   "metadata": {},
   "outputs": [],
   "source": [
    "print(a) # lets see if the computer still remembers our first variable?\n",
    "del a\n",
    "print(a) # lets see if the computer still remembers our first variable?"
   ]
  },
  {
   "cell_type": "code",
   "execution_count": null,
   "metadata": {},
   "outputs": [],
   "source": [
    "Okay, here we have it our first error message"
   ]
  },
  {
   "cell_type": "markdown",
   "metadata": {},
   "source": [
    "### 2.5 Math library functions"
   ]
  },
  {
   "cell_type": "code",
   "execution_count": 1,
   "metadata": {},
   "outputs": [
    {
     "name": "stdout",
     "output_type": "stream",
     "text": [
      "0.0 1.0 22026.465794806718\n"
     ]
    }
   ],
   "source": [
    "# we can import the math library with one simple command\n",
    "import math\n",
    "print(math.sin(0),math.cos(0),math.exp(10))\n",
    "# Go on, look up what other functions are included in the math library:\n",
    "# https://docs.python.org/3/library/math.html"
   ]
  },
  {
   "cell_type": "code",
   "execution_count": null,
   "metadata": {},
   "outputs": [],
   "source": []
  }
 ],
 "metadata": {
  "kernelspec": {
   "display_name": "Python 3",
   "language": "python",
   "name": "python3"
  },
  "language_info": {
   "codemirror_mode": {
    "name": "ipython",
    "version": 3
   },
   "file_extension": ".py",
   "mimetype": "text/x-python",
   "name": "python",
   "nbconvert_exporter": "python",
   "pygments_lexer": "ipython3",
   "version": "3.7.6"
  }
 },
 "nbformat": 4,
 "nbformat_minor": 4
}
